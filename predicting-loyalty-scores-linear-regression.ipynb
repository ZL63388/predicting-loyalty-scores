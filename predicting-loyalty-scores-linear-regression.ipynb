{
 "cells": [
  {
   "cell_type": "markdown",
   "metadata": {},
   "source": [
    "# Predicting Loyalty Scores"
   ]
  },
  {
   "cell_type": "markdown",
   "metadata": {},
   "source": [
    "### The Scenario\n",
    "#### Earlier in the year, we employed a consulting company to provide us \"loyalty scores\" four our customers. Just so you're aware, the loyalty score measures the percentage of grocery spend that a customer allocates to \"ABC Grocery\" vs. our competitors.\n",
    "#### Unfortunately, the consulting company was only able to match around half of our customers to their loyalty database - so while we now have loyalty scores for those customers, we're missing them for the other half.\n",
    "#### We hypothesise that this loyalty score could be related to some customer metrics that we have in our database - but we don't know for sure. If we could find a way to predict missing loyalty scores this would add huge value to our business as it would enable us to target all our customer with specific offers and discounts based on their loyalty to \"ABC Grocery\".\n",
    "#### Is this something you could help us with?"
   ]
  },
  {
   "cell_type": "markdown",
   "metadata": {},
   "source": [
    "### The Task\n",
    "#### Build a model based on the customers that were able to be matched that will look to learn a relationships between loyalty score and some customer behavioral and transactional metrics in the data that we have access to."
   ]
  },
  {
   "cell_type": "markdown",
   "metadata": {},
   "source": [
    "## Import Required Packages"
   ]
  },
  {
   "cell_type": "code",
   "execution_count": 1,
   "metadata": {},
   "outputs": [],
   "source": [
    "import pandas as pd\n",
    "import matplotlib.pyplot as plt\n",
    "import seaborn as sns\n",
    "import pickle\n",
    "\n",
    "from sklearn.linear_model import LinearRegression\n",
    "from sklearn.utils import shuffle\n",
    "from sklearn.model_selection import train_test_split, cross_val_score, KFold\n",
    "from sklearn.metrics import r2_score\n",
    "from sklearn.preprocessing import OneHotEncoder\n",
    "from sklearn.feature_selection import RFECV\n",
    "\n",
    "import warnings\n",
    "warnings.filterwarnings('ignore')"
   ]
  },
  {
   "cell_type": "markdown",
   "metadata": {},
   "source": [
    "## Import Data"
   ]
  },
  {
   "cell_type": "code",
   "execution_count": 2,
   "metadata": {},
   "outputs": [
    {
     "data": {
      "text/html": [
       "<div>\n",
       "<style scoped>\n",
       "    .dataframe tbody tr th:only-of-type {\n",
       "        vertical-align: middle;\n",
       "    }\n",
       "\n",
       "    .dataframe tbody tr th {\n",
       "        vertical-align: top;\n",
       "    }\n",
       "\n",
       "    .dataframe thead th {\n",
       "        text-align: right;\n",
       "    }\n",
       "</style>\n",
       "<table border=\"1\" class=\"dataframe\">\n",
       "  <thead>\n",
       "    <tr style=\"text-align: right;\">\n",
       "      <th></th>\n",
       "      <th>customer_id</th>\n",
       "      <th>distance_from_store</th>\n",
       "      <th>gender</th>\n",
       "      <th>credit_score</th>\n",
       "      <th>customer_loyalty_score</th>\n",
       "      <th>total_sales</th>\n",
       "      <th>total_items</th>\n",
       "      <th>transaction_count</th>\n",
       "      <th>product_area_count</th>\n",
       "      <th>average_basket_value</th>\n",
       "    </tr>\n",
       "  </thead>\n",
       "  <tbody>\n",
       "    <tr>\n",
       "      <th>0</th>\n",
       "      <td>74</td>\n",
       "      <td>3.38</td>\n",
       "      <td>F</td>\n",
       "      <td>0.59</td>\n",
       "      <td>0.263</td>\n",
       "      <td>2563.71</td>\n",
       "      <td>297</td>\n",
       "      <td>44</td>\n",
       "      <td>5</td>\n",
       "      <td>58.266136</td>\n",
       "    </tr>\n",
       "    <tr>\n",
       "      <th>1</th>\n",
       "      <td>524</td>\n",
       "      <td>4.76</td>\n",
       "      <td>F</td>\n",
       "      <td>0.52</td>\n",
       "      <td>0.298</td>\n",
       "      <td>2996.02</td>\n",
       "      <td>357</td>\n",
       "      <td>49</td>\n",
       "      <td>5</td>\n",
       "      <td>61.143265</td>\n",
       "    </tr>\n",
       "    <tr>\n",
       "      <th>2</th>\n",
       "      <td>607</td>\n",
       "      <td>4.45</td>\n",
       "      <td>F</td>\n",
       "      <td>0.49</td>\n",
       "      <td>0.337</td>\n",
       "      <td>2853.82</td>\n",
       "      <td>350</td>\n",
       "      <td>49</td>\n",
       "      <td>5</td>\n",
       "      <td>58.241224</td>\n",
       "    </tr>\n",
       "    <tr>\n",
       "      <th>3</th>\n",
       "      <td>343</td>\n",
       "      <td>0.91</td>\n",
       "      <td>M</td>\n",
       "      <td>0.54</td>\n",
       "      <td>0.873</td>\n",
       "      <td>2388.31</td>\n",
       "      <td>272</td>\n",
       "      <td>54</td>\n",
       "      <td>5</td>\n",
       "      <td>44.227963</td>\n",
       "    </tr>\n",
       "    <tr>\n",
       "      <th>4</th>\n",
       "      <td>322</td>\n",
       "      <td>3.02</td>\n",
       "      <td>F</td>\n",
       "      <td>0.63</td>\n",
       "      <td>0.350</td>\n",
       "      <td>2401.64</td>\n",
       "      <td>278</td>\n",
       "      <td>50</td>\n",
       "      <td>5</td>\n",
       "      <td>48.032800</td>\n",
       "    </tr>\n",
       "  </tbody>\n",
       "</table>\n",
       "</div>"
      ],
      "text/plain": [
       "   customer_id  distance_from_store gender  credit_score  \\\n",
       "0           74                 3.38      F          0.59   \n",
       "1          524                 4.76      F          0.52   \n",
       "2          607                 4.45      F          0.49   \n",
       "3          343                 0.91      M          0.54   \n",
       "4          322                 3.02      F          0.63   \n",
       "\n",
       "   customer_loyalty_score  total_sales  total_items  transaction_count  \\\n",
       "0                   0.263      2563.71          297                 44   \n",
       "1                   0.298      2996.02          357                 49   \n",
       "2                   0.337      2853.82          350                 49   \n",
       "3                   0.873      2388.31          272                 54   \n",
       "4                   0.350      2401.64          278                 50   \n",
       "\n",
       "   product_area_count  average_basket_value  \n",
       "0                   5             58.266136  \n",
       "1                   5             61.143265  \n",
       "2                   5             58.241224  \n",
       "3                   5             44.227963  \n",
       "4                   5             48.032800  "
      ]
     },
     "execution_count": 2,
     "metadata": {},
     "output_type": "execute_result"
    }
   ],
   "source": [
    "# import data\n",
    "data_for_model = pickle.load(open(\"abc_regression_modelling.p\", \"rb\"))\n",
    "data_for_model.head(5)"
   ]
  },
  {
   "cell_type": "code",
   "execution_count": 3,
   "metadata": {},
   "outputs": [
    {
     "name": "stdout",
     "output_type": "stream",
     "text": [
      "(400, 10)\n"
     ]
    }
   ],
   "source": [
    "print(data_for_model.shape)"
   ]
  },
  {
   "cell_type": "code",
   "execution_count": 4,
   "metadata": {},
   "outputs": [],
   "source": [
    "# drop necessary columns\n",
    "data_for_model.drop(\"customer_id\", axis = 1, inplace = True)"
   ]
  },
  {
   "cell_type": "code",
   "execution_count": 5,
   "metadata": {},
   "outputs": [
    {
     "name": "stdout",
     "output_type": "stream",
     "text": [
      "(400, 9)\n"
     ]
    }
   ],
   "source": [
    "print(data_for_model.shape)"
   ]
  },
  {
   "cell_type": "code",
   "execution_count": 6,
   "metadata": {},
   "outputs": [
    {
     "data": {
      "text/html": [
       "<div>\n",
       "<style scoped>\n",
       "    .dataframe tbody tr th:only-of-type {\n",
       "        vertical-align: middle;\n",
       "    }\n",
       "\n",
       "    .dataframe tbody tr th {\n",
       "        vertical-align: top;\n",
       "    }\n",
       "\n",
       "    .dataframe thead th {\n",
       "        text-align: right;\n",
       "    }\n",
       "</style>\n",
       "<table border=\"1\" class=\"dataframe\">\n",
       "  <thead>\n",
       "    <tr style=\"text-align: right;\">\n",
       "      <th></th>\n",
       "      <th>distance_from_store</th>\n",
       "      <th>gender</th>\n",
       "      <th>credit_score</th>\n",
       "      <th>customer_loyalty_score</th>\n",
       "      <th>total_sales</th>\n",
       "      <th>total_items</th>\n",
       "      <th>transaction_count</th>\n",
       "      <th>product_area_count</th>\n",
       "      <th>average_basket_value</th>\n",
       "    </tr>\n",
       "  </thead>\n",
       "  <tbody>\n",
       "    <tr>\n",
       "      <th>455</th>\n",
       "      <td>0.28</td>\n",
       "      <td>M</td>\n",
       "      <td>0.81</td>\n",
       "      <td>0.889</td>\n",
       "      <td>990.65</td>\n",
       "      <td>243</td>\n",
       "      <td>53</td>\n",
       "      <td>4</td>\n",
       "      <td>18.691509</td>\n",
       "    </tr>\n",
       "    <tr>\n",
       "      <th>621</th>\n",
       "      <td>2.58</td>\n",
       "      <td>F</td>\n",
       "      <td>0.58</td>\n",
       "      <td>0.162</td>\n",
       "      <td>333.26</td>\n",
       "      <td>70</td>\n",
       "      <td>13</td>\n",
       "      <td>4</td>\n",
       "      <td>25.635385</td>\n",
       "    </tr>\n",
       "    <tr>\n",
       "      <th>64</th>\n",
       "      <td>0.80</td>\n",
       "      <td>M</td>\n",
       "      <td>0.80</td>\n",
       "      <td>0.956</td>\n",
       "      <td>1753.96</td>\n",
       "      <td>371</td>\n",
       "      <td>52</td>\n",
       "      <td>5</td>\n",
       "      <td>33.730000</td>\n",
       "    </tr>\n",
       "    <tr>\n",
       "      <th>456</th>\n",
       "      <td>0.16</td>\n",
       "      <td>M</td>\n",
       "      <td>0.56</td>\n",
       "      <td>0.926</td>\n",
       "      <td>929.57</td>\n",
       "      <td>225</td>\n",
       "      <td>51</td>\n",
       "      <td>4</td>\n",
       "      <td>18.226863</td>\n",
       "    </tr>\n",
       "    <tr>\n",
       "      <th>196</th>\n",
       "      <td>3.27</td>\n",
       "      <td>F</td>\n",
       "      <td>0.67</td>\n",
       "      <td>0.297</td>\n",
       "      <td>1904.55</td>\n",
       "      <td>376</td>\n",
       "      <td>36</td>\n",
       "      <td>3</td>\n",
       "      <td>52.904167</td>\n",
       "    </tr>\n",
       "  </tbody>\n",
       "</table>\n",
       "</div>"
      ],
      "text/plain": [
       "     distance_from_store gender  credit_score  customer_loyalty_score  \\\n",
       "455                 0.28      M          0.81                   0.889   \n",
       "621                 2.58      F          0.58                   0.162   \n",
       "64                  0.80      M          0.80                   0.956   \n",
       "456                 0.16      M          0.56                   0.926   \n",
       "196                 3.27      F          0.67                   0.297   \n",
       "\n",
       "     total_sales  total_items  transaction_count  product_area_count  \\\n",
       "455       990.65          243                 53                   4   \n",
       "621       333.26           70                 13                   4   \n",
       "64       1753.96          371                 52                   5   \n",
       "456       929.57          225                 51                   4   \n",
       "196      1904.55          376                 36                   3   \n",
       "\n",
       "     average_basket_value  \n",
       "455             18.691509  \n",
       "621             25.635385  \n",
       "64              33.730000  \n",
       "456             18.226863  \n",
       "196             52.904167  "
      ]
     },
     "execution_count": 6,
     "metadata": {},
     "output_type": "execute_result"
    }
   ],
   "source": [
    "# shuffle data\n",
    "data_for_model = shuffle(data_for_model, random_state = 42)\n",
    "data_for_model.head(5)"
   ]
  },
  {
   "cell_type": "markdown",
   "metadata": {},
   "source": [
    "## Deal with missing values"
   ]
  },
  {
   "cell_type": "code",
   "execution_count": 7,
   "metadata": {},
   "outputs": [
    {
     "data": {
      "text/plain": [
       "distance_from_store       2\n",
       "gender                    3\n",
       "credit_score              2\n",
       "customer_loyalty_score    0\n",
       "total_sales               0\n",
       "total_items               0\n",
       "transaction_count         0\n",
       "product_area_count        0\n",
       "average_basket_value      0\n",
       "dtype: int64"
      ]
     },
     "execution_count": 7,
     "metadata": {},
     "output_type": "execute_result"
    }
   ],
   "source": [
    "data_for_model.isna().sum()"
   ]
  },
  {
   "cell_type": "code",
   "execution_count": 8,
   "metadata": {},
   "outputs": [
    {
     "data": {
      "text/plain": [
       "distance_from_store       0\n",
       "gender                    0\n",
       "credit_score              0\n",
       "customer_loyalty_score    0\n",
       "total_sales               0\n",
       "total_items               0\n",
       "transaction_count         0\n",
       "product_area_count        0\n",
       "average_basket_value      0\n",
       "dtype: int64"
      ]
     },
     "execution_count": 8,
     "metadata": {},
     "output_type": "execute_result"
    }
   ],
   "source": [
    "data_for_model.dropna(how = \"any\", inplace = True)\n",
    "data_for_model.isna().sum()"
   ]
  },
  {
   "cell_type": "markdown",
   "metadata": {},
   "source": [
    "## Deal with outliers"
   ]
  },
  {
   "cell_type": "code",
   "execution_count": 9,
   "metadata": {
    "scrolled": true
   },
   "outputs": [
    {
     "data": {
      "text/html": [
       "<div>\n",
       "<style scoped>\n",
       "    .dataframe tbody tr th:only-of-type {\n",
       "        vertical-align: middle;\n",
       "    }\n",
       "\n",
       "    .dataframe tbody tr th {\n",
       "        vertical-align: top;\n",
       "    }\n",
       "\n",
       "    .dataframe thead th {\n",
       "        text-align: right;\n",
       "    }\n",
       "</style>\n",
       "<table border=\"1\" class=\"dataframe\">\n",
       "  <thead>\n",
       "    <tr style=\"text-align: right;\">\n",
       "      <th></th>\n",
       "      <th>distance_from_store</th>\n",
       "      <th>credit_score</th>\n",
       "      <th>customer_loyalty_score</th>\n",
       "      <th>total_sales</th>\n",
       "      <th>total_items</th>\n",
       "      <th>transaction_count</th>\n",
       "      <th>product_area_count</th>\n",
       "      <th>average_basket_value</th>\n",
       "    </tr>\n",
       "  </thead>\n",
       "  <tbody>\n",
       "    <tr>\n",
       "      <th>count</th>\n",
       "      <td>394.000000</td>\n",
       "      <td>394.000000</td>\n",
       "      <td>394.000000</td>\n",
       "      <td>394.000000</td>\n",
       "      <td>394.000000</td>\n",
       "      <td>394.000000</td>\n",
       "      <td>394.000000</td>\n",
       "      <td>394.000000</td>\n",
       "    </tr>\n",
       "    <tr>\n",
       "      <th>mean</th>\n",
       "      <td>2.021041</td>\n",
       "      <td>0.596117</td>\n",
       "      <td>0.509589</td>\n",
       "      <td>1846.502538</td>\n",
       "      <td>278.304569</td>\n",
       "      <td>44.926396</td>\n",
       "      <td>4.312183</td>\n",
       "      <td>36.781487</td>\n",
       "    </tr>\n",
       "    <tr>\n",
       "      <th>std</th>\n",
       "      <td>2.566045</td>\n",
       "      <td>0.101352</td>\n",
       "      <td>0.294504</td>\n",
       "      <td>1767.829482</td>\n",
       "      <td>214.236424</td>\n",
       "      <td>21.248012</td>\n",
       "      <td>0.725054</td>\n",
       "      <td>19.337336</td>\n",
       "    </tr>\n",
       "    <tr>\n",
       "      <th>min</th>\n",
       "      <td>0.000000</td>\n",
       "      <td>0.260000</td>\n",
       "      <td>0.002000</td>\n",
       "      <td>45.950000</td>\n",
       "      <td>10.000000</td>\n",
       "      <td>4.000000</td>\n",
       "      <td>2.000000</td>\n",
       "      <td>9.342000</td>\n",
       "    </tr>\n",
       "    <tr>\n",
       "      <th>25%</th>\n",
       "      <td>0.710000</td>\n",
       "      <td>0.530000</td>\n",
       "      <td>0.263000</td>\n",
       "      <td>942.067500</td>\n",
       "      <td>201.000000</td>\n",
       "      <td>41.000000</td>\n",
       "      <td>4.000000</td>\n",
       "      <td>22.406953</td>\n",
       "    </tr>\n",
       "    <tr>\n",
       "      <th>50%</th>\n",
       "      <td>1.645000</td>\n",
       "      <td>0.590000</td>\n",
       "      <td>0.510500</td>\n",
       "      <td>1471.490000</td>\n",
       "      <td>258.500000</td>\n",
       "      <td>50.000000</td>\n",
       "      <td>4.000000</td>\n",
       "      <td>30.365417</td>\n",
       "    </tr>\n",
       "    <tr>\n",
       "      <th>75%</th>\n",
       "      <td>2.910000</td>\n",
       "      <td>0.660000</td>\n",
       "      <td>0.771500</td>\n",
       "      <td>2104.727500</td>\n",
       "      <td>318.500000</td>\n",
       "      <td>53.000000</td>\n",
       "      <td>5.000000</td>\n",
       "      <td>47.208474</td>\n",
       "    </tr>\n",
       "    <tr>\n",
       "      <th>max</th>\n",
       "      <td>44.370000</td>\n",
       "      <td>0.880000</td>\n",
       "      <td>1.000000</td>\n",
       "      <td>9878.760000</td>\n",
       "      <td>1187.000000</td>\n",
       "      <td>109.000000</td>\n",
       "      <td>5.000000</td>\n",
       "      <td>102.335417</td>\n",
       "    </tr>\n",
       "  </tbody>\n",
       "</table>\n",
       "</div>"
      ],
      "text/plain": [
       "       distance_from_store  credit_score  customer_loyalty_score  total_sales  \\\n",
       "count           394.000000    394.000000              394.000000   394.000000   \n",
       "mean              2.021041      0.596117                0.509589  1846.502538   \n",
       "std               2.566045      0.101352                0.294504  1767.829482   \n",
       "min               0.000000      0.260000                0.002000    45.950000   \n",
       "25%               0.710000      0.530000                0.263000   942.067500   \n",
       "50%               1.645000      0.590000                0.510500  1471.490000   \n",
       "75%               2.910000      0.660000                0.771500  2104.727500   \n",
       "max              44.370000      0.880000                1.000000  9878.760000   \n",
       "\n",
       "       total_items  transaction_count  product_area_count  \\\n",
       "count   394.000000         394.000000          394.000000   \n",
       "mean    278.304569          44.926396            4.312183   \n",
       "std     214.236424          21.248012            0.725054   \n",
       "min      10.000000           4.000000            2.000000   \n",
       "25%     201.000000          41.000000            4.000000   \n",
       "50%     258.500000          50.000000            4.000000   \n",
       "75%     318.500000          53.000000            5.000000   \n",
       "max    1187.000000         109.000000            5.000000   \n",
       "\n",
       "       average_basket_value  \n",
       "count            394.000000  \n",
       "mean              36.781487  \n",
       "std               19.337336  \n",
       "min                9.342000  \n",
       "25%               22.406953  \n",
       "50%               30.365417  \n",
       "75%               47.208474  \n",
       "max              102.335417  "
      ]
     },
     "execution_count": 9,
     "metadata": {},
     "output_type": "execute_result"
    }
   ],
   "source": [
    "# check outliers using descriptive statistics\n",
    "outlier_investigation = data_for_model.describe()\n",
    "outlier_investigation"
   ]
  },
  {
   "cell_type": "code",
   "execution_count": 10,
   "metadata": {},
   "outputs": [],
   "source": [
    "outlier_columns = [\"distance_from_store\", \"total_sales\", \"total_items\"]"
   ]
  },
  {
   "cell_type": "code",
   "execution_count": 11,
   "metadata": {},
   "outputs": [
    {
     "name": "stdout",
     "output_type": "stream",
     "text": [
      "2 outliers detected in column distance_from_store\n",
      "23 outliers detected in column total_sales\n",
      "0 outliers detected in column total_items\n"
     ]
    }
   ],
   "source": [
    "# boxplot approach\n",
    "for column in outlier_columns:\n",
    "    \n",
    "    lower_quartile = data_for_model[column].quantile(0.25)\n",
    "    upper_quartile = data_for_model[column].quantile(0.75)\n",
    "    iqr = upper_quartile - lower_quartile\n",
    "    iqr_extended = iqr * 2 # tried to widen to 2 to not cut out too many outliers\n",
    "    min_border = lower_quartile - iqr_extended\n",
    "    max_border = upper_quartile + iqr_extended\n",
    "    \n",
    "    outliers = data_for_model[(data_for_model[column] < min_border) | (data_for_model[column] > max_border)].index\n",
    "    print(f\"{len(outliers)} outliers detected in column {column}\")\n",
    "    \n",
    "    data_for_model.drop(outliers, inplace = True)"
   ]
  },
  {
   "cell_type": "code",
   "execution_count": 12,
   "metadata": {},
   "outputs": [
    {
     "name": "stdout",
     "output_type": "stream",
     "text": [
      "(369, 9)\n"
     ]
    }
   ],
   "source": [
    "print(data_for_model.shape)"
   ]
  },
  {
   "cell_type": "markdown",
   "metadata": {},
   "source": [
    "## Split input variables and output variables"
   ]
  },
  {
   "cell_type": "code",
   "execution_count": 13,
   "metadata": {},
   "outputs": [],
   "source": [
    "X = data_for_model.drop([\"customer_loyalty_score\"], axis = 1)\n",
    "y = data_for_model[\"customer_loyalty_score\"]"
   ]
  },
  {
   "cell_type": "code",
   "execution_count": 14,
   "metadata": {
    "scrolled": true
   },
   "outputs": [
    {
     "data": {
      "text/html": [
       "<div>\n",
       "<style scoped>\n",
       "    .dataframe tbody tr th:only-of-type {\n",
       "        vertical-align: middle;\n",
       "    }\n",
       "\n",
       "    .dataframe tbody tr th {\n",
       "        vertical-align: top;\n",
       "    }\n",
       "\n",
       "    .dataframe thead th {\n",
       "        text-align: right;\n",
       "    }\n",
       "</style>\n",
       "<table border=\"1\" class=\"dataframe\">\n",
       "  <thead>\n",
       "    <tr style=\"text-align: right;\">\n",
       "      <th></th>\n",
       "      <th>distance_from_store</th>\n",
       "      <th>gender</th>\n",
       "      <th>credit_score</th>\n",
       "      <th>total_sales</th>\n",
       "      <th>total_items</th>\n",
       "      <th>transaction_count</th>\n",
       "      <th>product_area_count</th>\n",
       "      <th>average_basket_value</th>\n",
       "    </tr>\n",
       "  </thead>\n",
       "  <tbody>\n",
       "    <tr>\n",
       "      <th>455</th>\n",
       "      <td>0.28</td>\n",
       "      <td>M</td>\n",
       "      <td>0.81</td>\n",
       "      <td>990.65</td>\n",
       "      <td>243</td>\n",
       "      <td>53</td>\n",
       "      <td>4</td>\n",
       "      <td>18.691509</td>\n",
       "    </tr>\n",
       "    <tr>\n",
       "      <th>621</th>\n",
       "      <td>2.58</td>\n",
       "      <td>F</td>\n",
       "      <td>0.58</td>\n",
       "      <td>333.26</td>\n",
       "      <td>70</td>\n",
       "      <td>13</td>\n",
       "      <td>4</td>\n",
       "      <td>25.635385</td>\n",
       "    </tr>\n",
       "    <tr>\n",
       "      <th>64</th>\n",
       "      <td>0.80</td>\n",
       "      <td>M</td>\n",
       "      <td>0.80</td>\n",
       "      <td>1753.96</td>\n",
       "      <td>371</td>\n",
       "      <td>52</td>\n",
       "      <td>5</td>\n",
       "      <td>33.730000</td>\n",
       "    </tr>\n",
       "    <tr>\n",
       "      <th>456</th>\n",
       "      <td>0.16</td>\n",
       "      <td>M</td>\n",
       "      <td>0.56</td>\n",
       "      <td>929.57</td>\n",
       "      <td>225</td>\n",
       "      <td>51</td>\n",
       "      <td>4</td>\n",
       "      <td>18.226863</td>\n",
       "    </tr>\n",
       "    <tr>\n",
       "      <th>196</th>\n",
       "      <td>3.27</td>\n",
       "      <td>F</td>\n",
       "      <td>0.67</td>\n",
       "      <td>1904.55</td>\n",
       "      <td>376</td>\n",
       "      <td>36</td>\n",
       "      <td>3</td>\n",
       "      <td>52.904167</td>\n",
       "    </tr>\n",
       "  </tbody>\n",
       "</table>\n",
       "</div>"
      ],
      "text/plain": [
       "     distance_from_store gender  credit_score  total_sales  total_items  \\\n",
       "455                 0.28      M          0.81       990.65          243   \n",
       "621                 2.58      F          0.58       333.26           70   \n",
       "64                  0.80      M          0.80      1753.96          371   \n",
       "456                 0.16      M          0.56       929.57          225   \n",
       "196                 3.27      F          0.67      1904.55          376   \n",
       "\n",
       "     transaction_count  product_area_count  average_basket_value  \n",
       "455                 53                   4             18.691509  \n",
       "621                 13                   4             25.635385  \n",
       "64                  52                   5             33.730000  \n",
       "456                 51                   4             18.226863  \n",
       "196                 36                   3             52.904167  "
      ]
     },
     "execution_count": 14,
     "metadata": {},
     "output_type": "execute_result"
    }
   ],
   "source": [
    "X.head(5)"
   ]
  },
  {
   "cell_type": "code",
   "execution_count": 15,
   "metadata": {},
   "outputs": [
    {
     "name": "stdout",
     "output_type": "stream",
     "text": [
      "(369, 8)\n"
     ]
    }
   ],
   "source": [
    "print(X.shape)"
   ]
  },
  {
   "cell_type": "code",
   "execution_count": 16,
   "metadata": {},
   "outputs": [
    {
     "data": {
      "text/plain": [
       "455    0.889\n",
       "621    0.162\n",
       "64     0.956\n",
       "456    0.926\n",
       "196    0.297\n",
       "Name: customer_loyalty_score, dtype: float64"
      ]
     },
     "execution_count": 16,
     "metadata": {},
     "output_type": "execute_result"
    }
   ],
   "source": [
    "y.head(5)"
   ]
  },
  {
   "cell_type": "code",
   "execution_count": 17,
   "metadata": {},
   "outputs": [
    {
     "name": "stdout",
     "output_type": "stream",
     "text": [
      "(369,)\n"
     ]
    }
   ],
   "source": [
    "print(y.shape)"
   ]
  },
  {
   "cell_type": "markdown",
   "metadata": {},
   "source": [
    "## Split out training and test sets"
   ]
  },
  {
   "cell_type": "code",
   "execution_count": 18,
   "metadata": {},
   "outputs": [],
   "source": [
    "X_train, X_test, y_train, y_test = train_test_split(X, y, test_size = 0.2, random_state = 42)"
   ]
  },
  {
   "cell_type": "code",
   "execution_count": 19,
   "metadata": {},
   "outputs": [
    {
     "name": "stdout",
     "output_type": "stream",
     "text": [
      "(295, 8)\n",
      "(74, 8)\n",
      "(295,)\n",
      "(74,)\n"
     ]
    }
   ],
   "source": [
    "print(X_train.shape)\n",
    "print(X_test.shape)\n",
    "print(y_train.shape)\n",
    "print(y_test.shape)"
   ]
  },
  {
   "cell_type": "markdown",
   "metadata": {},
   "source": [
    "## Deal with categorical variables"
   ]
  },
  {
   "cell_type": "code",
   "execution_count": 20,
   "metadata": {},
   "outputs": [],
   "source": [
    "categorical_vars = [\"gender\"]"
   ]
  },
  {
   "cell_type": "code",
   "execution_count": 21,
   "metadata": {},
   "outputs": [],
   "source": [
    "one_hot_encoder = OneHotEncoder(sparse=False, drop = \"first\")"
   ]
  },
  {
   "cell_type": "code",
   "execution_count": 22,
   "metadata": {},
   "outputs": [],
   "source": [
    "X_train_encoded = one_hot_encoder.fit_transform(X_train[categorical_vars])\n",
    "X_test_encoded = one_hot_encoder.transform(X_test[categorical_vars])"
   ]
  },
  {
   "cell_type": "code",
   "execution_count": 23,
   "metadata": {},
   "outputs": [],
   "source": [
    "encoder_feature_names = one_hot_encoder.get_feature_names(categorical_vars)"
   ]
  },
  {
   "cell_type": "code",
   "execution_count": 24,
   "metadata": {},
   "outputs": [],
   "source": [
    "X_train_encoded = pd.DataFrame(X_train_encoded, columns = encoder_feature_names)\n",
    "X_train = pd.concat([X_train.reset_index(drop=True), X_train_encoded.reset_index(drop=True)], axis = 1)\n",
    "X_train.drop(categorical_vars, axis = 1, inplace = True)"
   ]
  },
  {
   "cell_type": "code",
   "execution_count": 25,
   "metadata": {},
   "outputs": [
    {
     "data": {
      "text/html": [
       "<div>\n",
       "<style scoped>\n",
       "    .dataframe tbody tr th:only-of-type {\n",
       "        vertical-align: middle;\n",
       "    }\n",
       "\n",
       "    .dataframe tbody tr th {\n",
       "        vertical-align: top;\n",
       "    }\n",
       "\n",
       "    .dataframe thead th {\n",
       "        text-align: right;\n",
       "    }\n",
       "</style>\n",
       "<table border=\"1\" class=\"dataframe\">\n",
       "  <thead>\n",
       "    <tr style=\"text-align: right;\">\n",
       "      <th></th>\n",
       "      <th>gender_M</th>\n",
       "    </tr>\n",
       "  </thead>\n",
       "  <tbody>\n",
       "    <tr>\n",
       "      <th>0</th>\n",
       "      <td>1.0</td>\n",
       "    </tr>\n",
       "    <tr>\n",
       "      <th>1</th>\n",
       "      <td>1.0</td>\n",
       "    </tr>\n",
       "    <tr>\n",
       "      <th>2</th>\n",
       "      <td>0.0</td>\n",
       "    </tr>\n",
       "    <tr>\n",
       "      <th>3</th>\n",
       "      <td>0.0</td>\n",
       "    </tr>\n",
       "    <tr>\n",
       "      <th>4</th>\n",
       "      <td>1.0</td>\n",
       "    </tr>\n",
       "  </tbody>\n",
       "</table>\n",
       "</div>"
      ],
      "text/plain": [
       "   gender_M\n",
       "0       1.0\n",
       "1       1.0\n",
       "2       0.0\n",
       "3       0.0\n",
       "4       1.0"
      ]
     },
     "execution_count": 25,
     "metadata": {},
     "output_type": "execute_result"
    }
   ],
   "source": [
    "X_train_encoded.head(5)"
   ]
  },
  {
   "cell_type": "code",
   "execution_count": 26,
   "metadata": {},
   "outputs": [
    {
     "data": {
      "text/html": [
       "<div>\n",
       "<style scoped>\n",
       "    .dataframe tbody tr th:only-of-type {\n",
       "        vertical-align: middle;\n",
       "    }\n",
       "\n",
       "    .dataframe tbody tr th {\n",
       "        vertical-align: top;\n",
       "    }\n",
       "\n",
       "    .dataframe thead th {\n",
       "        text-align: right;\n",
       "    }\n",
       "</style>\n",
       "<table border=\"1\" class=\"dataframe\">\n",
       "  <thead>\n",
       "    <tr style=\"text-align: right;\">\n",
       "      <th></th>\n",
       "      <th>distance_from_store</th>\n",
       "      <th>credit_score</th>\n",
       "      <th>total_sales</th>\n",
       "      <th>total_items</th>\n",
       "      <th>transaction_count</th>\n",
       "      <th>product_area_count</th>\n",
       "      <th>average_basket_value</th>\n",
       "      <th>gender_M</th>\n",
       "    </tr>\n",
       "  </thead>\n",
       "  <tbody>\n",
       "    <tr>\n",
       "      <th>0</th>\n",
       "      <td>0.19</td>\n",
       "      <td>0.57</td>\n",
       "      <td>1096.96</td>\n",
       "      <td>202</td>\n",
       "      <td>53</td>\n",
       "      <td>5</td>\n",
       "      <td>20.697358</td>\n",
       "      <td>1.0</td>\n",
       "    </tr>\n",
       "    <tr>\n",
       "      <th>1</th>\n",
       "      <td>0.39</td>\n",
       "      <td>0.43</td>\n",
       "      <td>933.39</td>\n",
       "      <td>220</td>\n",
       "      <td>51</td>\n",
       "      <td>4</td>\n",
       "      <td>18.301765</td>\n",
       "      <td>1.0</td>\n",
       "    </tr>\n",
       "    <tr>\n",
       "      <th>2</th>\n",
       "      <td>2.27</td>\n",
       "      <td>0.49</td>\n",
       "      <td>1506.49</td>\n",
       "      <td>281</td>\n",
       "      <td>47</td>\n",
       "      <td>3</td>\n",
       "      <td>32.052979</td>\n",
       "      <td>0.0</td>\n",
       "    </tr>\n",
       "    <tr>\n",
       "      <th>3</th>\n",
       "      <td>3.10</td>\n",
       "      <td>0.59</td>\n",
       "      <td>330.79</td>\n",
       "      <td>81</td>\n",
       "      <td>13</td>\n",
       "      <td>4</td>\n",
       "      <td>25.445385</td>\n",
       "      <td>0.0</td>\n",
       "    </tr>\n",
       "    <tr>\n",
       "      <th>4</th>\n",
       "      <td>0.07</td>\n",
       "      <td>0.53</td>\n",
       "      <td>2053.04</td>\n",
       "      <td>210</td>\n",
       "      <td>54</td>\n",
       "      <td>5</td>\n",
       "      <td>38.019259</td>\n",
       "      <td>1.0</td>\n",
       "    </tr>\n",
       "  </tbody>\n",
       "</table>\n",
       "</div>"
      ],
      "text/plain": [
       "   distance_from_store  credit_score  total_sales  total_items  \\\n",
       "0                 0.19          0.57      1096.96          202   \n",
       "1                 0.39          0.43       933.39          220   \n",
       "2                 2.27          0.49      1506.49          281   \n",
       "3                 3.10          0.59       330.79           81   \n",
       "4                 0.07          0.53      2053.04          210   \n",
       "\n",
       "   transaction_count  product_area_count  average_basket_value  gender_M  \n",
       "0                 53                   5             20.697358       1.0  \n",
       "1                 51                   4             18.301765       1.0  \n",
       "2                 47                   3             32.052979       0.0  \n",
       "3                 13                   4             25.445385       0.0  \n",
       "4                 54                   5             38.019259       1.0  "
      ]
     },
     "execution_count": 26,
     "metadata": {},
     "output_type": "execute_result"
    }
   ],
   "source": [
    "X_train.head(5)"
   ]
  },
  {
   "cell_type": "code",
   "execution_count": 27,
   "metadata": {},
   "outputs": [],
   "source": [
    "X_test_encoded = pd.DataFrame(X_test_encoded, columns = encoder_feature_names)\n",
    "X_test = pd.concat([X_test.reset_index(drop=True), X_test_encoded.reset_index(drop=True)], axis = 1)\n",
    "X_test.drop(categorical_vars, axis = 1, inplace = True)"
   ]
  },
  {
   "cell_type": "code",
   "execution_count": 28,
   "metadata": {
    "scrolled": true
   },
   "outputs": [
    {
     "data": {
      "text/html": [
       "<div>\n",
       "<style scoped>\n",
       "    .dataframe tbody tr th:only-of-type {\n",
       "        vertical-align: middle;\n",
       "    }\n",
       "\n",
       "    .dataframe tbody tr th {\n",
       "        vertical-align: top;\n",
       "    }\n",
       "\n",
       "    .dataframe thead th {\n",
       "        text-align: right;\n",
       "    }\n",
       "</style>\n",
       "<table border=\"1\" class=\"dataframe\">\n",
       "  <thead>\n",
       "    <tr style=\"text-align: right;\">\n",
       "      <th></th>\n",
       "      <th>gender_M</th>\n",
       "    </tr>\n",
       "  </thead>\n",
       "  <tbody>\n",
       "    <tr>\n",
       "      <th>0</th>\n",
       "      <td>0.0</td>\n",
       "    </tr>\n",
       "    <tr>\n",
       "      <th>1</th>\n",
       "      <td>0.0</td>\n",
       "    </tr>\n",
       "    <tr>\n",
       "      <th>2</th>\n",
       "      <td>0.0</td>\n",
       "    </tr>\n",
       "    <tr>\n",
       "      <th>3</th>\n",
       "      <td>0.0</td>\n",
       "    </tr>\n",
       "    <tr>\n",
       "      <th>4</th>\n",
       "      <td>0.0</td>\n",
       "    </tr>\n",
       "  </tbody>\n",
       "</table>\n",
       "</div>"
      ],
      "text/plain": [
       "   gender_M\n",
       "0       0.0\n",
       "1       0.0\n",
       "2       0.0\n",
       "3       0.0\n",
       "4       0.0"
      ]
     },
     "execution_count": 28,
     "metadata": {},
     "output_type": "execute_result"
    }
   ],
   "source": [
    "X_test_encoded.head(5)"
   ]
  },
  {
   "cell_type": "code",
   "execution_count": 29,
   "metadata": {},
   "outputs": [
    {
     "data": {
      "text/html": [
       "<div>\n",
       "<style scoped>\n",
       "    .dataframe tbody tr th:only-of-type {\n",
       "        vertical-align: middle;\n",
       "    }\n",
       "\n",
       "    .dataframe tbody tr th {\n",
       "        vertical-align: top;\n",
       "    }\n",
       "\n",
       "    .dataframe thead th {\n",
       "        text-align: right;\n",
       "    }\n",
       "</style>\n",
       "<table border=\"1\" class=\"dataframe\">\n",
       "  <thead>\n",
       "    <tr style=\"text-align: right;\">\n",
       "      <th></th>\n",
       "      <th>distance_from_store</th>\n",
       "      <th>credit_score</th>\n",
       "      <th>total_sales</th>\n",
       "      <th>total_items</th>\n",
       "      <th>transaction_count</th>\n",
       "      <th>product_area_count</th>\n",
       "      <th>average_basket_value</th>\n",
       "      <th>gender_M</th>\n",
       "    </tr>\n",
       "  </thead>\n",
       "  <tbody>\n",
       "    <tr>\n",
       "      <th>0</th>\n",
       "      <td>2.80</td>\n",
       "      <td>0.41</td>\n",
       "      <td>1524.01</td>\n",
       "      <td>278</td>\n",
       "      <td>45</td>\n",
       "      <td>3</td>\n",
       "      <td>33.866889</td>\n",
       "      <td>0.0</td>\n",
       "    </tr>\n",
       "    <tr>\n",
       "      <th>1</th>\n",
       "      <td>1.92</td>\n",
       "      <td>0.64</td>\n",
       "      <td>1992.51</td>\n",
       "      <td>305</td>\n",
       "      <td>53</td>\n",
       "      <td>5</td>\n",
       "      <td>37.594528</td>\n",
       "      <td>0.0</td>\n",
       "    </tr>\n",
       "    <tr>\n",
       "      <th>2</th>\n",
       "      <td>4.38</td>\n",
       "      <td>0.47</td>\n",
       "      <td>343.41</td>\n",
       "      <td>70</td>\n",
       "      <td>12</td>\n",
       "      <td>4</td>\n",
       "      <td>28.617500</td>\n",
       "      <td>0.0</td>\n",
       "    </tr>\n",
       "    <tr>\n",
       "      <th>3</th>\n",
       "      <td>1.51</td>\n",
       "      <td>0.59</td>\n",
       "      <td>1208.91</td>\n",
       "      <td>198</td>\n",
       "      <td>55</td>\n",
       "      <td>5</td>\n",
       "      <td>21.980182</td>\n",
       "      <td>0.0</td>\n",
       "    </tr>\n",
       "    <tr>\n",
       "      <th>4</th>\n",
       "      <td>2.52</td>\n",
       "      <td>0.50</td>\n",
       "      <td>1967.39</td>\n",
       "      <td>316</td>\n",
       "      <td>55</td>\n",
       "      <td>5</td>\n",
       "      <td>35.770727</td>\n",
       "      <td>0.0</td>\n",
       "    </tr>\n",
       "  </tbody>\n",
       "</table>\n",
       "</div>"
      ],
      "text/plain": [
       "   distance_from_store  credit_score  total_sales  total_items  \\\n",
       "0                 2.80          0.41      1524.01          278   \n",
       "1                 1.92          0.64      1992.51          305   \n",
       "2                 4.38          0.47       343.41           70   \n",
       "3                 1.51          0.59      1208.91          198   \n",
       "4                 2.52          0.50      1967.39          316   \n",
       "\n",
       "   transaction_count  product_area_count  average_basket_value  gender_M  \n",
       "0                 45                   3             33.866889       0.0  \n",
       "1                 53                   5             37.594528       0.0  \n",
       "2                 12                   4             28.617500       0.0  \n",
       "3                 55                   5             21.980182       0.0  \n",
       "4                 55                   5             35.770727       0.0  "
      ]
     },
     "execution_count": 29,
     "metadata": {},
     "output_type": "execute_result"
    }
   ],
   "source": [
    "X_test.head(5)"
   ]
  },
  {
   "cell_type": "markdown",
   "metadata": {},
   "source": [
    "## Feature Selection"
   ]
  },
  {
   "cell_type": "code",
   "execution_count": 30,
   "metadata": {},
   "outputs": [],
   "source": [
    "regressor = LinearRegression()\n",
    "feature_selector = RFECV(regressor)"
   ]
  },
  {
   "cell_type": "code",
   "execution_count": 31,
   "metadata": {},
   "outputs": [],
   "source": [
    "fit = feature_selector.fit(X_train, y_train)"
   ]
  },
  {
   "cell_type": "code",
   "execution_count": 32,
   "metadata": {},
   "outputs": [
    {
     "name": "stdout",
     "output_type": "stream",
     "text": [
      "Optimal number of features: 8\n"
     ]
    }
   ],
   "source": [
    "optimal_feature_count = feature_selector.n_features_\n",
    "print(f\"Optimal number of features: {optimal_feature_count}\")"
   ]
  },
  {
   "cell_type": "code",
   "execution_count": 33,
   "metadata": {
    "scrolled": true
   },
   "outputs": [
    {
     "data": {
      "image/png": "[encoded data removed]",
      "text/plain": [
       "<Figure size 432x288 with 1 Axes>"
      ]
     },
     "metadata": {
      "needs_background": "light"
     },
     "output_type": "display_data"
    }
   ],
   "source": [
    "plt.plot(range(1, len(fit.grid_scores_) + 1), fit.grid_scores_, marker = \"o\")\n",
    "plt.ylabel(\"Model Score\")\n",
    "plt.xlabel(\"Number of Features\")\n",
    "plt.title(f\"Feature Selection using RFE \\n Optimal number of features is {optimal_feature_count} (at score of {round(max(fit.grid_scores_), 4)})\")\n",
    "plt.tight_layout() \n",
    "plt.show()"
   ]
  },
  {
   "cell_type": "markdown",
   "metadata": {},
   "source": [
    "## Model Training"
   ]
  },
  {
   "cell_type": "code",
   "execution_count": 34,
   "metadata": {},
   "outputs": [],
   "source": [
    "regressor = LinearRegression()"
   ]
  },
  {
   "cell_type": "code",
   "execution_count": 35,
   "metadata": {},
   "outputs": [
    {
     "data": {
      "text/plain": [
       "LinearRegression()"
      ]
     },
     "execution_count": 35,
     "metadata": {},
     "output_type": "execute_result"
    }
   ],
   "source": [
    "regressor.fit(X_train, y_train)"
   ]
  },
  {
   "cell_type": "markdown",
   "metadata": {},
   "source": [
    "## Model Assessment"
   ]
  },
  {
   "cell_type": "code",
   "execution_count": 36,
   "metadata": {},
   "outputs": [],
   "source": [
    "y_pred = regressor.predict(X_test)"
   ]
  },
  {
   "cell_type": "code",
   "execution_count": 37,
   "metadata": {},
   "outputs": [
    {
     "name": "stdout",
     "output_type": "stream",
     "text": [
      "0.7805702910327394\n"
     ]
    }
   ],
   "source": [
    "# calculate r-squared\n",
    "r_squared = r2_score(y_test, y_pred)\n",
    "print(r_squared)"
   ]
  },
  {
   "cell_type": "code",
   "execution_count": 38,
   "metadata": {},
   "outputs": [
    {
     "data": {
      "text/plain": [
       "0.8532327536589747"
      ]
     },
     "execution_count": 38,
     "metadata": {},
     "output_type": "execute_result"
    }
   ],
   "source": [
    "# cross validation (CV)\n",
    "cv = KFold(n_splits = 4, shuffle = True, random_state = 42)\n",
    "cv_scores = cross_val_score(regressor, X_train, y_train, cv = cv, scoring = \"r2\")\n",
    "cv_scores.mean()"
   ]
  },
  {
   "cell_type": "code",
   "execution_count": 39,
   "metadata": {},
   "outputs": [
    {
     "name": "stdout",
     "output_type": "stream",
     "text": [
      "0.7535635576213844\n"
     ]
    }
   ],
   "source": [
    "# calculate adjusted r-squared\n",
    "num_data_points, num_input_vars = X_test.shape\n",
    "adjusted_r_squared = 1 - (1 - r_squared) * (num_data_points - 1) / (num_data_points - num_input_vars - 1)\n",
    "print(adjusted_r_squared)"
   ]
  },
  {
   "cell_type": "code",
   "execution_count": 40,
   "metadata": {},
   "outputs": [],
   "source": [
    "# extract model coefficients\n",
    "coefficients = pd.DataFrame(regressor.coef_)\n",
    "input_variable_names = pd.DataFrame(X_train.columns)\n",
    "summary_stats = pd.concat([input_variable_names, coefficients], axis = 1)\n",
    "summary_stats.columns = [\"input_variable\", \"coefficient\"]"
   ]
  },
  {
   "cell_type": "code",
   "execution_count": 41,
   "metadata": {},
   "outputs": [
    {
     "data": {
      "text/html": [
       "<div>\n",
       "<style scoped>\n",
       "    .dataframe tbody tr th:only-of-type {\n",
       "        vertical-align: middle;\n",
       "    }\n",
       "\n",
       "    .dataframe tbody tr th {\n",
       "        vertical-align: top;\n",
       "    }\n",
       "\n",
       "    .dataframe thead th {\n",
       "        text-align: right;\n",
       "    }\n",
       "</style>\n",
       "<table border=\"1\" class=\"dataframe\">\n",
       "  <thead>\n",
       "    <tr style=\"text-align: right;\">\n",
       "      <th></th>\n",
       "      <th>input_variable</th>\n",
       "      <th>coefficient</th>\n",
       "    </tr>\n",
       "  </thead>\n",
       "  <tbody>\n",
       "    <tr>\n",
       "      <th>0</th>\n",
       "      <td>distance_from_store</td>\n",
       "      <td>-0.201232</td>\n",
       "    </tr>\n",
       "    <tr>\n",
       "      <th>1</th>\n",
       "      <td>credit_score</td>\n",
       "      <td>-0.027697</td>\n",
       "    </tr>\n",
       "    <tr>\n",
       "      <th>7</th>\n",
       "      <td>gender_M</td>\n",
       "      <td>-0.013393</td>\n",
       "    </tr>\n",
       "    <tr>\n",
       "      <th>4</th>\n",
       "      <td>transaction_count</td>\n",
       "      <td>-0.004842</td>\n",
       "    </tr>\n",
       "    <tr>\n",
       "      <th>6</th>\n",
       "      <td>average_basket_value</td>\n",
       "      <td>-0.003971</td>\n",
       "    </tr>\n",
       "    <tr>\n",
       "      <th>2</th>\n",
       "      <td>total_sales</td>\n",
       "      <td>0.000142</td>\n",
       "    </tr>\n",
       "    <tr>\n",
       "      <th>3</th>\n",
       "      <td>total_items</td>\n",
       "      <td>0.001002</td>\n",
       "    </tr>\n",
       "    <tr>\n",
       "      <th>5</th>\n",
       "      <td>product_area_count</td>\n",
       "      <td>0.061659</td>\n",
       "    </tr>\n",
       "  </tbody>\n",
       "</table>\n",
       "</div>"
      ],
      "text/plain": [
       "         input_variable  coefficient\n",
       "0   distance_from_store    -0.201232\n",
       "1          credit_score    -0.027697\n",
       "7              gender_M    -0.013393\n",
       "4     transaction_count    -0.004842\n",
       "6  average_basket_value    -0.003971\n",
       "2           total_sales     0.000142\n",
       "3           total_items     0.001002\n",
       "5    product_area_count     0.061659"
      ]
     },
     "execution_count": 41,
     "metadata": {},
     "output_type": "execute_result"
    }
   ],
   "source": [
    "summary_stats.sort_values(by=['coefficient'], ascending=True)"
   ]
  },
  {
   "cell_type": "code",
   "execution_count": 42,
   "metadata": {},
   "outputs": [
    {
     "data": {
      "text/plain": [
       "0.5160974174646169"
      ]
     },
     "execution_count": 42,
     "metadata": {},
     "output_type": "execute_result"
    }
   ],
   "source": [
    "# extract model intercept\n",
    "regressor.intercept_"
   ]
  },
  {
   "cell_type": "markdown",
   "metadata": {},
   "source": [
    "## Deploy"
   ]
  },
  {
   "cell_type": "markdown",
   "metadata": {},
   "source": [
    "#### Apply the model on the test data"
   ]
  },
  {
   "cell_type": "code",
   "execution_count": 43,
   "metadata": {
    "scrolled": true
   },
   "outputs": [
    {
     "data": {
      "text/html": [
       "<div>\n",
       "<style scoped>\n",
       "    .dataframe tbody tr th:only-of-type {\n",
       "        vertical-align: middle;\n",
       "    }\n",
       "\n",
       "    .dataframe tbody tr th {\n",
       "        vertical-align: top;\n",
       "    }\n",
       "\n",
       "    .dataframe thead th {\n",
       "        text-align: right;\n",
       "    }\n",
       "</style>\n",
       "<table border=\"1\" class=\"dataframe\">\n",
       "  <thead>\n",
       "    <tr style=\"text-align: right;\">\n",
       "      <th></th>\n",
       "      <th>customer_id</th>\n",
       "      <th>distance_from_store</th>\n",
       "      <th>gender</th>\n",
       "      <th>credit_score</th>\n",
       "      <th>total_sales</th>\n",
       "      <th>total_items</th>\n",
       "      <th>transaction_count</th>\n",
       "      <th>product_area_count</th>\n",
       "      <th>average_basket_value</th>\n",
       "    </tr>\n",
       "  </thead>\n",
       "  <tbody>\n",
       "    <tr>\n",
       "      <th>6</th>\n",
       "      <td>1</td>\n",
       "      <td>4.78</td>\n",
       "      <td>F</td>\n",
       "      <td>0.66</td>\n",
       "      <td>3980.49</td>\n",
       "      <td>424</td>\n",
       "      <td>51</td>\n",
       "      <td>5</td>\n",
       "      <td>78.048824</td>\n",
       "    </tr>\n",
       "    <tr>\n",
       "      <th>7</th>\n",
       "      <td>120</td>\n",
       "      <td>3.49</td>\n",
       "      <td>F</td>\n",
       "      <td>0.38</td>\n",
       "      <td>2887.20</td>\n",
       "      <td>253</td>\n",
       "      <td>45</td>\n",
       "      <td>5</td>\n",
       "      <td>64.160000</td>\n",
       "    </tr>\n",
       "    <tr>\n",
       "      <th>8</th>\n",
       "      <td>52</td>\n",
       "      <td>14.91</td>\n",
       "      <td>F</td>\n",
       "      <td>0.68</td>\n",
       "      <td>3342.75</td>\n",
       "      <td>335</td>\n",
       "      <td>47</td>\n",
       "      <td>5</td>\n",
       "      <td>71.122340</td>\n",
       "    </tr>\n",
       "    <tr>\n",
       "      <th>10</th>\n",
       "      <td>435</td>\n",
       "      <td>0.25</td>\n",
       "      <td>M</td>\n",
       "      <td>0.62</td>\n",
       "      <td>2326.71</td>\n",
       "      <td>267</td>\n",
       "      <td>48</td>\n",
       "      <td>5</td>\n",
       "      <td>48.473125</td>\n",
       "    </tr>\n",
       "    <tr>\n",
       "      <th>12</th>\n",
       "      <td>679</td>\n",
       "      <td>4.74</td>\n",
       "      <td>F</td>\n",
       "      <td>0.58</td>\n",
       "      <td>3448.59</td>\n",
       "      <td>370</td>\n",
       "      <td>49</td>\n",
       "      <td>5</td>\n",
       "      <td>70.379388</td>\n",
       "    </tr>\n",
       "  </tbody>\n",
       "</table>\n",
       "</div>"
      ],
      "text/plain": [
       "    customer_id  distance_from_store gender  credit_score  total_sales  \\\n",
       "6             1                 4.78      F          0.66      3980.49   \n",
       "7           120                 3.49      F          0.38      2887.20   \n",
       "8            52                14.91      F          0.68      3342.75   \n",
       "10          435                 0.25      M          0.62      2326.71   \n",
       "12          679                 4.74      F          0.58      3448.59   \n",
       "\n",
       "    total_items  transaction_count  product_area_count  average_basket_value  \n",
       "6           424                 51                   5             78.048824  \n",
       "7           253                 45                   5             64.160000  \n",
       "8           335                 47                   5             71.122340  \n",
       "10          267                 48                   5             48.473125  \n",
       "12          370                 49                   5             70.379388  "
      ]
     },
     "execution_count": 43,
     "metadata": {},
     "output_type": "execute_result"
    }
   ],
   "source": [
    "# import data\n",
    "to_be_scored = pickle.load(open(\"abc_regression_scoring.p\", \"rb\"))\n",
    "to_be_scored.head(5)"
   ]
  },
  {
   "cell_type": "code",
   "execution_count": 44,
   "metadata": {},
   "outputs": [],
   "source": [
    "# drop unused columns\n",
    "to_be_scored.drop([\"customer_id\"], axis = 1, inplace = True)"
   ]
  },
  {
   "cell_type": "code",
   "execution_count": 45,
   "metadata": {},
   "outputs": [],
   "source": [
    "# drop missing values\n",
    "to_be_scored.dropna(how = \"any\", inplace = True)"
   ]
  },
  {
   "cell_type": "code",
   "execution_count": 46,
   "metadata": {},
   "outputs": [],
   "source": [
    "# apply one hot encoding\n",
    "categorical_vars = ['gender']"
   ]
  },
  {
   "cell_type": "code",
   "execution_count": 47,
   "metadata": {},
   "outputs": [],
   "source": [
    "encoder_vars_array = one_hot_encoder.transform(to_be_scored[categorical_vars])"
   ]
  },
  {
   "cell_type": "code",
   "execution_count": 48,
   "metadata": {},
   "outputs": [],
   "source": [
    "encoder_feature_names = one_hot_encoder.get_feature_names(categorical_vars)"
   ]
  },
  {
   "cell_type": "code",
   "execution_count": 49,
   "metadata": {},
   "outputs": [],
   "source": [
    "encoder_vars_df = pd.DataFrame(encoder_vars_array, columns = encoder_feature_names)\n",
    "to_be_scored = pd.concat([to_be_scored.reset_index(drop=True), encoder_vars_df.reset_index(drop=True)], axis = 1)\n",
    "to_be_scored.drop(categorical_vars, axis = 1, inplace = True)"
   ]
  },
  {
   "cell_type": "code",
   "execution_count": 50,
   "metadata": {},
   "outputs": [
    {
     "data": {
      "text/plain": [
       "array([ 2.79469930e-01,  3.03847286e-01, -1.89275962e+00,  9.17755260e-01,\n",
       "        1.99967688e-01,  9.46473716e-01,  3.01355977e-01,  7.07308402e-01,\n",
       "        1.01916596e-01,  7.78762800e-01,  4.83656893e-01,  5.45022809e-01,\n",
       "        4.86191556e-01,  4.23194651e-01,  5.38394319e-01,  1.19225215e-01,\n",
       "        8.12221503e-01,  3.07649121e-01,  8.92103879e-01,  4.17892780e-01,\n",
       "        1.21019174e-01,  5.79331136e-01,  4.40670153e-01,  3.42982342e-01,\n",
       "        6.52603977e-01,  3.99366449e-01,  5.42064052e-01,  8.90257199e-01,\n",
       "        5.46991739e-01,  3.78286182e-01,  4.70474829e-01,  4.04768511e-01,\n",
       "        4.26008212e-01,  4.96905132e-01,  6.88986220e-01,  3.12811276e-01,\n",
       "        3.26362674e-01,  8.80328924e-01,  2.80613366e-01,  4.42442890e-01,\n",
       "        7.87284275e-01,  6.94096409e-01,  4.54477116e-01,  9.01125899e-01,\n",
       "        9.56803151e-01,  3.60778462e-01,  4.37571436e-01,  1.03402836e+00,\n",
       "        5.30926730e-01,  4.20647791e-01,  7.93737510e-01,  8.23197722e-01,\n",
       "        7.15689184e-01,  3.27154602e-01,  6.07117285e-01,  7.32863544e-01,\n",
       "        2.52324864e-01,  3.65728434e-01,  1.94338256e-01,  2.74884699e-01,\n",
       "        4.23987066e-01,  8.46961657e-01,  8.44446485e-01,  6.33847008e-01,\n",
       "        4.91857985e-01,  6.71128369e-01,  9.54961916e-01,  4.38692201e-01,\n",
       "        9.50775952e-01,  3.01241041e-01,  5.72171995e-01,  5.12313180e-01,\n",
       "        6.60381753e-01,  5.87223146e-01,  6.36683094e-01,  4.89407368e-01,\n",
       "        3.15334457e-01,  5.86405615e-01,  7.40910869e-01,  5.36743932e-01,\n",
       "        2.46464064e-01,  3.95275249e-01,  4.28277378e-01,  7.02471664e-01,\n",
       "        5.61894632e-01,  1.81853698e-01,  4.15559602e-01,  3.16330866e-01,\n",
       "        4.95151684e-01,  4.36899863e-01,  4.06586528e-01,  8.69740573e-01,\n",
       "        8.85985571e-01,  2.21284238e-01,  5.19688428e-01,  4.12875401e-01,\n",
       "        8.38012414e-01,  5.68172051e-01,  3.35483004e-01,  9.05644218e-01,\n",
       "        2.59128162e-01,  3.53232230e-01, -2.19071432e+01,  7.18293039e-01,\n",
       "        7.00662430e-01,  4.18369947e-01,  8.33682554e-01,  5.70697743e-01,\n",
       "        1.78178777e-01,  8.74896364e-01,  8.97231402e-01,  1.80956537e-01,\n",
       "        1.50476693e-01,  3.85722789e-01,  2.39160430e-01,  2.16598201e-01,\n",
       "        9.74646765e-02,  5.53365351e-01,  1.56754944e-01,  8.91741263e-01,\n",
       "        6.71956460e-01,  2.59220885e-01,  3.38644662e-01,  8.77112055e-01,\n",
       "        6.20176832e-01,  4.04882301e-01,  5.42729105e-01,  7.25829335e-01,\n",
       "        7.16686204e-02,  4.05914194e-01,  1.43361120e-01,  6.24221793e-01,\n",
       "        5.01146432e-01,  7.30764616e-01,  8.75125889e-01,  7.59708053e-01,\n",
       "        3.46448019e-01,  8.11501669e-01,  6.33298628e-01,  1.80601578e-01,\n",
       "        6.33878354e-01,  2.05284998e-01,  6.06164162e-01,  8.26277669e-01,\n",
       "        7.17047217e-01,  5.24028458e-01,  6.88370393e-01,  2.43433461e-01,\n",
       "        4.23028218e-01,  6.22196750e-01,  4.83076648e-01,  4.54740097e-01,\n",
       "        3.88942191e-01,  2.40649964e-01,  3.60422546e-01,  4.53312567e-01,\n",
       "        7.82769318e-01,  3.01956938e-01,  5.90555550e-01,  7.69179909e-01,\n",
       "        1.83449715e-01,  1.70113168e-01,  1.52870358e-01,  3.11828668e-01,\n",
       "        1.43051769e-01,  3.27926584e-01,  2.21696942e-01,  1.81271183e-01,\n",
       "        4.19534681e-01,  4.67161511e-01,  4.43380244e-01,  7.73994058e-01,\n",
       "        3.94637058e-01,  7.45904347e-01,  3.24054174e-01,  3.50712501e-01,\n",
       "        4.78196141e-01,  2.41217956e-01,  7.95575185e-01,  2.17321938e-01,\n",
       "        2.32477552e-01,  4.12353453e-01,  8.61889350e-01,  6.27944653e-01,\n",
       "        8.57375713e-01,  5.32507589e-01,  8.23538365e-01,  5.48224121e-01,\n",
       "        6.12570831e-01,  7.53138722e-01,  7.04673061e-01,  6.36274572e-01,\n",
       "        1.94598874e-01,  5.43735291e-01,  5.12855800e-01,  3.58464624e-01,\n",
       "        1.62951683e-01,  2.38204089e-01,  5.58429908e-01,  7.85177457e-01,\n",
       "        5.53912038e-01,  1.34119239e-01,  5.33329998e-01,  1.75425400e-01,\n",
       "        7.35448089e-01,  4.88227600e-01,  7.74924662e-01,  2.96407121e-01,\n",
       "        1.32115904e-01,  6.23920092e-01,  1.89667207e-01,  3.23084050e-01,\n",
       "        5.82954639e-01,  4.27113339e-01,  6.60395254e-01,  6.16517228e-01,\n",
       "        7.07980172e-01,  7.55990463e-01,  6.50562925e-01,  6.44180577e-01,\n",
       "        5.90713330e-01,  6.31323781e-01,  6.10893016e-01,  7.10989146e-01,\n",
       "        7.31655868e-01,  7.60124348e-01,  7.21593363e-01,  6.61231278e-01,\n",
       "        6.51772824e-01,  6.59372146e-01,  7.19631865e-01,  7.74027761e-01,\n",
       "        6.76217418e-01,  6.07449445e-01,  6.43393719e-01,  6.76986905e-01,\n",
       "        6.70500384e-01,  7.03541334e-01,  6.56840598e-01,  6.64976966e-01,\n",
       "        6.72117103e-01,  6.75668172e-01,  7.38896473e-01,  7.25534650e-01,\n",
       "        8.03474255e-01,  6.45580819e-01,  6.50406187e-01,  6.89833298e-01,\n",
       "        6.59241803e-01,  7.46708344e-01,  6.31817919e-01,  7.09018526e-01,\n",
       "        6.74887371e-01,  6.70179422e-01,  6.92985534e-01,  7.05549947e-01,\n",
       "        6.71953750e-01,  6.88944682e-01,  7.74627806e-01,  6.84073052e-01,\n",
       "        7.35338369e-01,  6.71952660e-01,  7.12224536e-01,  7.32847867e-01,\n",
       "        6.47647593e-01,  7.77199887e-01,  6.37962397e-01,  5.54240940e-01,\n",
       "        7.21020290e-01,  5.99262515e-01,  6.01206743e-01,  7.94338377e-01,\n",
       "        5.59387346e-01,  6.42305531e-01,  4.95710265e-01,  4.96011188e-01,\n",
       "        6.64016400e-01,  6.15496979e-01,  7.88414135e-01,  6.25381723e-01,\n",
       "        5.43563551e-01,  7.48867487e-01,  6.14141636e-01,  6.58871188e-01,\n",
       "        7.19735880e-01,  6.73874336e-01,  6.45283370e-01,  5.67557871e-01,\n",
       "        7.87376152e-01,  5.15920104e-01,  8.03817665e-01,  4.52519345e-01,\n",
       "        7.93235998e-01,  4.76449037e-01,  7.16937837e-01,  4.56476006e-01,\n",
       "        8.51795228e-01,  5.73652363e-01,  4.37788931e-01,  4.68636923e-01,\n",
       "        6.18918903e-01,  6.45040911e-01,  5.08266888e-01,  5.74892353e-01,\n",
       "        5.51378484e-01,  7.72582335e-01,  7.53157966e-01,  5.10886037e-01,\n",
       "        7.49490615e-01,  6.36119338e-01,  4.67705717e-01,  8.04060224e-01,\n",
       "        6.92475620e-01,  7.46962440e-01,  6.80599356e-01,  7.12613718e-01,\n",
       "        5.47705021e-01,  7.20678350e-01,  5.27091418e-01,  5.15351384e-01,\n",
       "        1.96677120e-01,  5.62909087e-02,  5.31721645e-01,  5.11389071e-01,\n",
       "       -6.19503143e-02,  4.44908971e-01,  1.48512225e-01,  3.73440063e-01,\n",
       "       -2.13539729e-01,  4.67744195e-01,  1.83991338e-01, -2.94098881e+00,\n",
       "        1.31462924e-01,  4.79165734e-01,  4.74409257e-01,  3.61713116e-01,\n",
       "        4.63987637e-01, -2.03910415e-01,  3.68052851e-01,  4.91254280e-01,\n",
       "        2.53892895e-01, -7.09548679e-02,  6.69739671e-01,  2.71042522e-01,\n",
       "        2.44595124e-01,  1.48970731e-01, -2.73357261e-01, -2.90654754e-02,\n",
       "        2.16826625e-01,  3.92023113e-01,  2.35482632e-01, -2.20066576e-01,\n",
       "        3.52040148e-01,  6.67397086e-01,  1.60321494e-01, -2.35800549e-01,\n",
       "       -6.24716499e-02,  6.21287934e-01, -1.23252562e-01,  5.55695893e-01,\n",
       "        6.68804728e-01,  2.75904349e-01, -1.18268214e-01, -1.77943212e-01,\n",
       "        4.59782428e-01,  6.04731520e-01,  6.56327372e-01, -1.23318791e-02,\n",
       "       -1.96739221e-02,  5.69360290e-01,  3.82423689e-01, -1.65189393e-01,\n",
       "        4.76493820e-01,  2.55852801e-01,  3.66923365e-01,  4.81489510e-01,\n",
       "       -4.97681019e-03, -1.99770382e-01,  3.81843758e-01,  6.76196266e-01,\n",
       "        4.12479361e-01, -1.08564820e-01,  2.85810504e-01,  2.25282990e-01,\n",
       "        6.12243859e-03,  5.37355647e-01, -1.27965049e-01, -2.54531561e-02,\n",
       "        4.11716421e-01,  4.27684613e-01,  6.57670435e-01,  5.70573950e-01,\n",
       "       -1.95673004e-01,  3.24800957e-01, -1.00289585e+00,  7.52187300e-02,\n",
       "        4.15028080e-01,  1.63172771e-01, -1.34692053e-01,  5.28156330e-01,\n",
       "       -8.49179930e-02,  3.35659443e-01,  6.18345261e-01, -1.64214443e-01,\n",
       "        5.75917246e-01, -2.55462648e-01,  4.16120884e-01, -9.09009185e-02,\n",
       "        2.54656342e-01,  1.69006776e-01,  2.30661642e-01,  3.05368646e-01,\n",
       "        2.10193651e-01,  4.98402418e-01,  1.66207510e-01,  3.92129069e-01,\n",
       "        3.91787109e-01, -2.22235973e-01, -2.38906243e-01,  5.75797897e-02,\n",
       "        4.04801328e-02,  1.06462772e+00,  1.13516011e+00,  1.02753858e+00,\n",
       "        1.65840121e+00,  1.88089154e+00,  9.64170793e-01,  2.02056312e+00,\n",
       "        2.21148126e+00,  1.75946726e+00,  7.23509539e-01,  1.22097781e+00,\n",
       "        1.90966333e+00,  1.72276485e+00,  1.08249373e+00,  1.31508013e+00,\n",
       "        1.61286460e+00,  1.46661801e+00,  1.86453694e+00,  1.57276299e+00,\n",
       "        1.92602293e+00,  6.82475501e-01,  3.66516973e-01,  6.57077224e-01,\n",
       "        4.97197376e-01,  8.75587537e-01,  6.70669610e-01,  9.00474475e-01,\n",
       "        4.98304039e-01,  8.45887983e-01,  1.02370210e+00,  6.60990573e-01,\n",
       "        5.76835515e-01,  4.64871231e-01,  6.56304512e-01,  8.76754231e-01,\n",
       "        1.05977823e+00,  7.06279286e-01, -7.95286590e+01,  9.70967710e-01,\n",
       "        7.05167288e-01,  3.14857383e-01,  6.23557521e-01])"
      ]
     },
     "execution_count": 50,
     "metadata": {},
     "output_type": "execute_result"
    }
   ],
   "source": [
    "loyalty_predictions = regressor.predict(to_be_scored)\n",
    "loyalty_predictions"
   ]
  },
  {
   "cell_type": "code",
   "execution_count": 51,
   "metadata": {},
   "outputs": [],
   "source": [
    "to_be_scored['customer_loyalty_score'] = loyalty_predictions"
   ]
  },
  {
   "cell_type": "code",
   "execution_count": 52,
   "metadata": {},
   "outputs": [
    {
     "data": {
      "text/html": [
       "<div>\n",
       "<style scoped>\n",
       "    .dataframe tbody tr th:only-of-type {\n",
       "        vertical-align: middle;\n",
       "    }\n",
       "\n",
       "    .dataframe tbody tr th {\n",
       "        vertical-align: top;\n",
       "    }\n",
       "\n",
       "    .dataframe thead th {\n",
       "        text-align: right;\n",
       "    }\n",
       "</style>\n",
       "<table border=\"1\" class=\"dataframe\">\n",
       "  <thead>\n",
       "    <tr style=\"text-align: right;\">\n",
       "      <th></th>\n",
       "      <th>distance_from_store</th>\n",
       "      <th>credit_score</th>\n",
       "      <th>total_sales</th>\n",
       "      <th>total_items</th>\n",
       "      <th>transaction_count</th>\n",
       "      <th>product_area_count</th>\n",
       "      <th>average_basket_value</th>\n",
       "      <th>gender_M</th>\n",
       "      <th>customer_loyalty_score</th>\n",
       "    </tr>\n",
       "  </thead>\n",
       "  <tbody>\n",
       "    <tr>\n",
       "      <th>0</th>\n",
       "      <td>4.78</td>\n",
       "      <td>0.66</td>\n",
       "      <td>3980.49</td>\n",
       "      <td>424</td>\n",
       "      <td>51</td>\n",
       "      <td>5</td>\n",
       "      <td>78.048824</td>\n",
       "      <td>0.0</td>\n",
       "      <td>0.279470</td>\n",
       "    </tr>\n",
       "    <tr>\n",
       "      <th>1</th>\n",
       "      <td>3.49</td>\n",
       "      <td>0.38</td>\n",
       "      <td>2887.20</td>\n",
       "      <td>253</td>\n",
       "      <td>45</td>\n",
       "      <td>5</td>\n",
       "      <td>64.160000</td>\n",
       "      <td>0.0</td>\n",
       "      <td>0.303847</td>\n",
       "    </tr>\n",
       "    <tr>\n",
       "      <th>2</th>\n",
       "      <td>14.91</td>\n",
       "      <td>0.68</td>\n",
       "      <td>3342.75</td>\n",
       "      <td>335</td>\n",
       "      <td>47</td>\n",
       "      <td>5</td>\n",
       "      <td>71.122340</td>\n",
       "      <td>0.0</td>\n",
       "      <td>-1.892760</td>\n",
       "    </tr>\n",
       "    <tr>\n",
       "      <th>3</th>\n",
       "      <td>0.25</td>\n",
       "      <td>0.62</td>\n",
       "      <td>2326.71</td>\n",
       "      <td>267</td>\n",
       "      <td>48</td>\n",
       "      <td>5</td>\n",
       "      <td>48.473125</td>\n",
       "      <td>1.0</td>\n",
       "      <td>0.917755</td>\n",
       "    </tr>\n",
       "    <tr>\n",
       "      <th>4</th>\n",
       "      <td>4.74</td>\n",
       "      <td>0.58</td>\n",
       "      <td>3448.59</td>\n",
       "      <td>370</td>\n",
       "      <td>49</td>\n",
       "      <td>5</td>\n",
       "      <td>70.379388</td>\n",
       "      <td>0.0</td>\n",
       "      <td>0.199968</td>\n",
       "    </tr>\n",
       "  </tbody>\n",
       "</table>\n",
       "</div>"
      ],
      "text/plain": [
       "   distance_from_store  credit_score  total_sales  total_items  \\\n",
       "0                 4.78          0.66      3980.49          424   \n",
       "1                 3.49          0.38      2887.20          253   \n",
       "2                14.91          0.68      3342.75          335   \n",
       "3                 0.25          0.62      2326.71          267   \n",
       "4                 4.74          0.58      3448.59          370   \n",
       "\n",
       "   transaction_count  product_area_count  average_basket_value  gender_M  \\\n",
       "0                 51                   5             78.048824       0.0   \n",
       "1                 45                   5             64.160000       0.0   \n",
       "2                 47                   5             71.122340       0.0   \n",
       "3                 48                   5             48.473125       1.0   \n",
       "4                 49                   5             70.379388       0.0   \n",
       "\n",
       "   customer_loyalty_score  \n",
       "0                0.279470  \n",
       "1                0.303847  \n",
       "2               -1.892760  \n",
       "3                0.917755  \n",
       "4                0.199968  "
      ]
     },
     "execution_count": 52,
     "metadata": {},
     "output_type": "execute_result"
    }
   ],
   "source": [
    "to_be_scored.head(5)"
   ]
  },
  {
   "cell_type": "code",
   "execution_count": 66,
   "metadata": {},
   "outputs": [
    {
     "data": {
      "text/html": [
       "<div>\n",
       "<style scoped>\n",
       "    .dataframe tbody tr th:only-of-type {\n",
       "        vertical-align: middle;\n",
       "    }\n",
       "\n",
       "    .dataframe tbody tr th {\n",
       "        vertical-align: top;\n",
       "    }\n",
       "\n",
       "    .dataframe thead th {\n",
       "        text-align: right;\n",
       "    }\n",
       "</style>\n",
       "<table border=\"1\" class=\"dataframe\">\n",
       "  <thead>\n",
       "    <tr style=\"text-align: right;\">\n",
       "      <th></th>\n",
       "      <th>distance_from_store</th>\n",
       "      <th>customer_loyalty_score</th>\n",
       "    </tr>\n",
       "  </thead>\n",
       "  <tbody>\n",
       "    <tr>\n",
       "      <th>458</th>\n",
       "      <td>400.97</td>\n",
       "      <td>-79.528659</td>\n",
       "    </tr>\n",
       "    <tr>\n",
       "      <th>102</th>\n",
       "      <td>113.89</td>\n",
       "      <td>-21.907143</td>\n",
       "    </tr>\n",
       "    <tr>\n",
       "      <th>331</th>\n",
       "      <td>18.09</td>\n",
       "      <td>-2.940989</td>\n",
       "    </tr>\n",
       "    <tr>\n",
       "      <th>2</th>\n",
       "      <td>14.91</td>\n",
       "      <td>-1.892760</td>\n",
       "    </tr>\n",
       "    <tr>\n",
       "      <th>394</th>\n",
       "      <td>8.48</td>\n",
       "      <td>-1.002896</td>\n",
       "    </tr>\n",
       "    <tr>\n",
       "      <th>...</th>\n",
       "      <td>...</td>\n",
       "      <td>...</td>\n",
       "    </tr>\n",
       "    <tr>\n",
       "      <th>450</th>\n",
       "      <td>0.03</td>\n",
       "      <td>1.023702</td>\n",
       "    </tr>\n",
       "    <tr>\n",
       "      <th>265</th>\n",
       "      <td>0.03</td>\n",
       "      <td>0.777200</td>\n",
       "    </tr>\n",
       "    <tr>\n",
       "      <th>119</th>\n",
       "      <td>0.01</td>\n",
       "      <td>0.891741</td>\n",
       "    </tr>\n",
       "    <tr>\n",
       "      <th>66</th>\n",
       "      <td>0.00</td>\n",
       "      <td>0.954962</td>\n",
       "    </tr>\n",
       "    <tr>\n",
       "      <th>47</th>\n",
       "      <td>0.00</td>\n",
       "      <td>1.034028</td>\n",
       "    </tr>\n",
       "  </tbody>\n",
       "</table>\n",
       "<p>463 rows × 2 columns</p>\n",
       "</div>"
      ],
      "text/plain": [
       "     distance_from_store  customer_loyalty_score\n",
       "458               400.97              -79.528659\n",
       "102               113.89              -21.907143\n",
       "331                18.09               -2.940989\n",
       "2                  14.91               -1.892760\n",
       "394                 8.48               -1.002896\n",
       "..                   ...                     ...\n",
       "450                 0.03                1.023702\n",
       "265                 0.03                0.777200\n",
       "119                 0.01                0.891741\n",
       "66                  0.00                0.954962\n",
       "47                  0.00                1.034028\n",
       "\n",
       "[463 rows x 2 columns]"
      ]
     },
     "execution_count": 66,
     "metadata": {},
     "output_type": "execute_result"
    }
   ],
   "source": [
    "to_be_scored[['distance_from_store','customer_loyalty_score']].sort_values(by='distance_from_store', ascending = False)"
   ]
  },
  {
   "cell_type": "code",
   "execution_count": null,
   "metadata": {},
   "outputs": [],
   "source": []
  }
 ],
 "metadata": {
  "anaconda-cloud": {},
  "kernelspec": {
   "display_name": "Python [conda env:my_env] *",
   "language": "python",
   "name": "conda-env-my_env-py"
  },
  "language_info": {
   "codemirror_mode": {
    "name": "ipython",
    "version": 3
   },
   "file_extension": ".py",
   "mimetype": "text/x-python",
   "name": "python",
   "nbconvert_exporter": "python",
   "pygments_lexer": "ipython3",
   "version": "3.8.5"
  }
 },
 "nbformat": 4,
 "nbformat_minor": 4
}
